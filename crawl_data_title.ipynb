{
 "cells": [
  {
   "cell_type": "code",
   "execution_count": 1,
   "metadata": {},
   "outputs": [
    {
     "name": "stdout",
     "output_type": "stream",
     "text": [
      "\n",
      "📌 Memulai scraping Google Scholar...\n",
      "\n"
     ]
    },
    {
     "ename": "KeyboardInterrupt",
     "evalue": "",
     "output_type": "error",
     "traceback": [
      "\u001b[1;31m---------------------------------------------------------------------------\u001b[0m",
      "\u001b[1;31mKeyboardInterrupt\u001b[0m                         Traceback (most recent call last)",
      "Cell \u001b[1;32mIn[1], line 64\u001b[0m\n\u001b[0;32m     61\u001b[0m         filtered_papers\u001b[38;5;241m.\u001b[39mclear()  \u001b[38;5;66;03m# Kosongkan list setelah menyimpan\u001b[39;00m\n\u001b[0;32m     63\u001b[0m     \u001b[38;5;66;03m# Tunggu sebelum mengambil hasil berikutnya untuk menghindari rate limiting\u001b[39;00m\n\u001b[1;32m---> 64\u001b[0m     \u001b[43mtime\u001b[49m\u001b[38;5;241;43m.\u001b[39;49m\u001b[43msleep\u001b[49m\u001b[43m(\u001b[49m\u001b[38;5;241;43m2\u001b[39;49m\u001b[43m)\u001b[49m\n\u001b[0;32m     66\u001b[0m \u001b[38;5;28;01mexcept\u001b[39;00m \u001b[38;5;167;01mStopIteration\u001b[39;00m:\n\u001b[0;32m     67\u001b[0m     \u001b[38;5;28mprint\u001b[39m(\u001b[38;5;124m\"\u001b[39m\u001b[38;5;130;01m\\n\u001b[39;00m\u001b[38;5;124m✅ Tidak ada hasil lagi, menghentikan scraping.\u001b[39m\u001b[38;5;124m\"\u001b[39m)\n",
      "\u001b[1;31mKeyboardInterrupt\u001b[0m: "
     ]
    }
   ],
   "source": [
    "import csv\n",
    "import time\n",
    "import os\n",
    "from scholarly import scholarly\n",
    "\n",
    "# Nama file CSV\n",
    "csv_filename = \"scholar_titles_links.csv\"\n",
    "\n",
    "# Cek apakah file CSV sudah ada\n",
    "file_exists = os.path.isfile(csv_filename)\n",
    "\n",
    "# Kata kunci pencarian\n",
    "query = '(\"Generative\" OR \"Conversational\") OR (\"Emotional\" OR \"Emotion\") AND (\"Chatbot\" OR \"Chat\" OR \"Agent\")'\n",
    "\n",
    "print(\"\\n📌 Memulai scraping Google Scholar...\\n\")\n",
    "\n",
    "# Ambil hasil pencarian dari Google Scholar\n",
    "search_query = scholarly.search_pubs(query)\n",
    "\n",
    "# List untuk menyimpan data sementara sebelum disimpan ke CSV\n",
    "filtered_papers = []\n",
    "\n",
    "# Tentukan jumlah yang akan diambil (maksimal 50 atau sebanyak yang tersedia)\n",
    "num_papers = 100000\n",
    "\n",
    "# Loop untuk mengambil data paper sesuai jumlah yang tersedia\n",
    "for i in range(1, num_papers + 1):  # Mulai iterasi dari 1 agar kelipatan 10 mudah dicek\n",
    "    try:\n",
    "        paper = next(search_query)  # Ambil satu hasil pencarian\n",
    "\n",
    "        title = paper['bib'].get('title', 'No Title')\n",
    "        year = paper['bib'].get('pub_year', None)  # Tahun publikasi\n",
    "        url = paper.get('pub_url') or paper.get('eprint_url') or 'No URL'  # URL publikasi\n",
    "        abstract = paper['bib'].get('abstract', 'No Abstract')  # Abstrak\n",
    "\n",
    "        # Konversi tahun ke integer jika memungkinkan\n",
    "        try:\n",
    "            year = int(year) if year else None\n",
    "        except ValueError:\n",
    "            year = None\n",
    "\n",
    "        # Filter hanya paper dari tahun 2020-2025\n",
    "        if year and 2020 <= year <= 2025:\n",
    "            filtered_papers.append([title, url, year, abstract])\n",
    "            print(f\"✅ {title} ({year})\")\n",
    "\n",
    "        # Setiap kelipatan 10, simpan data ke CSV\n",
    "        if i % 10 == 0 and filtered_papers:\n",
    "            with open(csv_filename, mode=\"a\", newline=\"\", encoding=\"utf-8\") as file:\n",
    "                writer = csv.writer(file)\n",
    "\n",
    "                # Jika file belum ada, tulis header\n",
    "                if not file_exists:\n",
    "                    writer.writerow([\"Title\", \"Link\", \"Year\", \"Abstract\"])\n",
    "                    file_exists = True\n",
    "\n",
    "                # Tulis data yang telah dikumpulkan\n",
    "                writer.writerows(filtered_papers)\n",
    "\n",
    "            print(f\"\\n💾 Data {len(filtered_papers)} paper telah disimpan ke CSV pada iterasi {i}.\\n\")\n",
    "            filtered_papers.clear()  # Kosongkan list setelah menyimpan\n",
    "\n",
    "        # Tunggu sebelum mengambil hasil berikutnya untuk menghindari rate limiting\n",
    "        time.sleep(2)\n",
    "\n",
    "    except StopIteration:\n",
    "        print(\"\\n✅ Tidak ada hasil lagi, menghentikan scraping.\")\n",
    "        break\n",
    "    except Exception as e:\n",
    "        print(f\"\\n⚠️ Terjadi error: {e}\")\n",
    "        continue  # Lewati paper yang error dan lanjutkan ke berikutnya\n",
    "\n",
    "# Simpan sisa data yang belum tersimpan (jika ada)\n",
    "if filtered_papers:\n",
    "    with open(csv_filename, mode=\"a\", newline=\"\", encoding=\"utf-8\") as file:\n",
    "        writer = csv.writer(file)\n",
    "\n",
    "        # Jika file belum ada, tulis header\n",
    "        if not file_exists:\n",
    "            writer.writerow([\"Title\", \"Link\", \"Year\", \"Abstract\"])\n",
    "            file_exists = True\n",
    "\n",
    "        # Tulis semua data yang tersisa\n",
    "        writer.writerows(filtered_papers)\n",
    "\n",
    "    print(f\"\\n✅ Sisa {len(filtered_papers)} paper terakhir telah disimpan ke CSV.\")\n",
    "\n",
    "# Tampilkan ringkasan hasil yang tersimpan\n",
    "print(\"\\n✅ Proses scraping selesai.\")\n"
   ]
  },
  {
   "cell_type": "markdown",
   "metadata": {},
   "source": [
    "TF-IDF, pembobotan kata yang sering muncul dengan beberapa metode"
   ]
  },
  {
   "cell_type": "markdown",
   "metadata": {},
   "source": [
    "Fluent: factpod retrieval Baased Chatbot LSTM\n",
    "\n",
    "using very deep autoencoder for content-based image retrieval 2011.\n"
   ]
  }
 ],
 "metadata": {
  "kernelspec": {
   "display_name": "mypython3",
   "language": "python",
   "name": "python3"
  },
  "language_info": {
   "codemirror_mode": {
    "name": "ipython",
    "version": 3
   },
   "file_extension": ".py",
   "mimetype": "text/x-python",
   "name": "python",
   "nbconvert_exporter": "python",
   "pygments_lexer": "ipython3",
   "version": "3.12.3"
  }
 },
 "nbformat": 4,
 "nbformat_minor": 2
}
