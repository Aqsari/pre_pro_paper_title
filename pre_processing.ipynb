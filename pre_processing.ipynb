{
 "cells": [
  {
   "cell_type": "code",
   "execution_count": null,
   "metadata": {
    "vscode": {
     "languageId": "plaintext"
    }
   },
   "outputs": [],
   "source": [
    "import pandas as pd\n",
    "\n",
    "# Nama file CSV\n",
    "csv_filename = \"scholar_titles_links.csv\"\n",
    "\n",
    "# Membaca file CSV\n",
    "try:\n",
    "    df = pd.read_csv(csv_filename, encoding=\"utf-8\")\n",
    "    print(df))  # Menampilkan 5 baris pertama\n",
    "except FileNotFoundError:\n",
    "    print(f\"❌ File '{csv_filename}' tidak ditemukan.\")\n",
    "except Exception as e:\n",
    "    print(f\"⚠️ Terjadi kesalahan: {e}\")\n"
   ]
  }
 ],
 "metadata": {
  "language_info": {
   "name": "python"
  }
 },
 "nbformat": 4,
 "nbformat_minor": 2
}
